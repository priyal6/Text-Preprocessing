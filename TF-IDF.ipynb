{
 "cells": [
  {
   "cell_type": "code",
   "execution_count": 1,
   "id": "b0ea2395-fdd4-42dd-939a-a175d059eda6",
   "metadata": {},
   "outputs": [],
   "source": [
    "from sklearn.feature_extraction.text import TfidfVectorizer"
   ]
  },
  {
   "cell_type": "code",
   "execution_count": 2,
   "id": "d2aca0bc-2e4c-4ef7-a2b7-d3f736c1275c",
   "metadata": {},
   "outputs": [],
   "source": [
    "corpus = [\n",
    "    \"Data science is an interdisciplinary field.\",\n",
    "    \"Science and data are closely related.\",\n",
    "    \"Field of data science is growing rapidly.\",\n",
    "]"
   ]
  },
  {
   "cell_type": "code",
   "execution_count": 3,
   "id": "6269f5c8-3360-4e22-a516-cd56203c3fbf",
   "metadata": {},
   "outputs": [],
   "source": [
    "vectorizer = TfidfVectorizer()\n"
   ]
  },
  {
   "cell_type": "code",
   "execution_count": 4,
   "id": "f2503ed3-2328-47e3-be39-51f25fbd1972",
   "metadata": {},
   "outputs": [],
   "source": [
    "# Fit and transform the corpus\n",
    "tfidf_matrix = vectorizer.fit_transform(corpus)\n"
   ]
  },
  {
   "cell_type": "code",
   "execution_count": 5,
   "id": "bf78cd73-0d23-4ce9-8eae-af4470f4bd3b",
   "metadata": {},
   "outputs": [],
   "source": [
    "feature_names = vectorizer.get_feature_names_out()"
   ]
  },
  {
   "cell_type": "code",
   "execution_count": 7,
   "id": "d49eccec-7305-47fa-99d0-effc814f8676",
   "metadata": {},
   "outputs": [
    {
     "data": {
      "text/plain": [
       "array(['an', 'and', 'are', 'closely', 'data', 'field', 'growing',\n",
       "       'interdisciplinary', 'is', 'of', 'rapidly', 'related', 'science'],\n",
       "      dtype=object)"
      ]
     },
     "execution_count": 7,
     "metadata": {},
     "output_type": "execute_result"
    }
   ],
   "source": [
    "feature_names"
   ]
  },
  {
   "cell_type": "code",
   "execution_count": 8,
   "id": "ebee23ec-c048-4f1b-a253-2cd2798544d8",
   "metadata": {},
   "outputs": [],
   "source": [
    "dense_matrix = tfidf_matrix.toarray()\n"
   ]
  },
  {
   "cell_type": "code",
   "execution_count": 9,
   "id": "d13f91a3-9c1d-49b1-ae36-44551c3f4ee7",
   "metadata": {},
   "outputs": [
    {
     "name": "stdout",
     "output_type": "stream",
     "text": [
      "TF-IDF Matrix:\n",
      "[[0.50935267 0.         0.         0.         0.30083189 0.38737583\n",
      "  0.         0.50935267 0.38737583 0.         0.         0.\n",
      "  0.30083189]\n",
      " [0.         0.46138073 0.46138073 0.46138073 0.27249889 0.\n",
      "  0.         0.         0.         0.         0.         0.46138073\n",
      "  0.27249889]\n",
      " [0.         0.         0.         0.         0.26806191 0.34517852\n",
      "  0.45386827 0.         0.34517852 0.45386827 0.45386827 0.\n",
      "  0.26806191]]\n",
      "\n",
      "Feature Names:\n",
      "['an' 'and' 'are' 'closely' 'data' 'field' 'growing' 'interdisciplinary'\n",
      " 'is' 'of' 'rapidly' 'related' 'science']\n"
     ]
    }
   ],
   "source": [
    "print(\"TF-IDF Matrix:\")\n",
    "print(dense_matrix)\n",
    "\n",
    "print(\"\\nFeature Names:\")\n",
    "print(feature_names)"
   ]
  },
  {
   "cell_type": "code",
   "execution_count": null,
   "id": "3cc52175-4914-4a14-96e1-ba005f0ed65f",
   "metadata": {},
   "outputs": [],
   "source": []
  }
 ],
 "metadata": {
  "kernelspec": {
   "display_name": "Python 3 (ipykernel)",
   "language": "python",
   "name": "python3"
  },
  "language_info": {
   "codemirror_mode": {
    "name": "ipython",
    "version": 3
   },
   "file_extension": ".py",
   "mimetype": "text/x-python",
   "name": "python",
   "nbconvert_exporter": "python",
   "pygments_lexer": "ipython3",
   "version": "3.11.7"
  }
 },
 "nbformat": 4,
 "nbformat_minor": 5
}
